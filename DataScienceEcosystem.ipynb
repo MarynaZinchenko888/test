{
 "cells": [
  {
   "cell_type": "markdown",
   "id": "4c08215b-530c-4240-b971-97fce6442f2d",
   "metadata": {},
   "source": [
    "# Data Science Tools and Ecosystem"
   ]
  },
  {
   "cell_type": "markdown",
   "id": "479b41dc-0d75-4edf-add1-da71f1bc06b7",
   "metadata": {},
   "source": [
    "In this notebook, Data Science Tools and Ecosystem are summarized."
   ]
  },
  {
   "cell_type": "markdown",
   "id": "30850456-cfa0-4546-a720-841eb25f3d2b",
   "metadata": {},
   "source": [
    "<b> Objectives\n",
    "\n",
    "* List popular languages for Data Science.\n",
    "* Create ordered list and unordered list (bullets).\n",
    "* Learn how to make to multiply and add numbers.\n",
    "* The commonly used libraries used by Data Scientists.\n",
    "* Understand how to convert minutes to hours."
   ]
  },
  {
   "cell_type": "markdown",
   "id": "e25ccdf6-54b5-40d5-91f5-672c56f66196",
   "metadata": {},
   "source": [
    "Some of the popular languages that Data Scientists use are:"
   ]
  },
  {
   "cell_type": "markdown",
   "id": "f463b609-9c90-452b-a219-899d8f9f158c",
   "metadata": {},
   "source": [
    "1. Pyton\n",
    "2. SQL\n",
    "3. R"
   ]
  },
  {
   "cell_type": "markdown",
   "id": "ec290b2d-4ff8-4df5-8e2f-2641fe97b382",
   "metadata": {},
   "source": [
    "Some of the commonly used libraries used by Data Scientists include:"
   ]
  },
  {
   "cell_type": "markdown",
   "id": "e8a21f46-a5fb-4fe8-bff2-56160d5b336e",
   "metadata": {},
   "source": [
    "1. Pandas\n",
    "2. Matplotlib\n",
    "3. NumPy"
   ]
  },
  {
   "cell_type": "markdown",
   "id": "8e89062c-7e0b-4880-82e7-a88dd0fec31e",
   "metadata": {},
   "source": [
    "|Data Science Tools|\n",
    "|------------------|\n",
    "|Jupyter Notebook|\n",
    "|Apache Spark|\n",
    "|RStudio|"
   ]
  },
  {
   "cell_type": "markdown",
   "id": "d0f71c6f-6a74-496d-945d-216e1ab4a3cb",
   "metadata": {},
   "source": [
    "### Below are a few examples of evaluating arithmetic expressions in Python"
   ]
  },
  {
   "cell_type": "code",
   "execution_count": 1,
   "id": "ffd404a8-1378-4cf0-9a9b-036db6c3d22d",
   "metadata": {},
   "outputs": [
    {
     "data": {
      "text/plain": [
       "17"
      ]
     },
     "execution_count": 1,
     "metadata": {},
     "output_type": "execute_result"
    }
   ],
   "source": [
    "# This a simple arithmetic expression to mutiply then add integers:\n",
    "result = (3*4)+5\n",
    "result"
   ]
  },
  {
   "cell_type": "code",
   "execution_count": 2,
   "id": "50b86070-4afb-4fdd-8090-b3c5f7f3c718",
   "metadata": {},
   "outputs": [
    {
     "data": {
      "text/plain": [
       "3.3333333333333335"
      ]
     },
     "execution_count": 2,
     "metadata": {},
     "output_type": "execute_result"
    }
   ],
   "source": [
    "# This will convert 200 minutes to hours by diving by 60:\n",
    "minutes = 200\n",
    "hours = minutes / 60\n",
    "hours"
   ]
  },
  {
   "cell_type": "markdown",
   "id": "65f21e4f-2af6-4e65-a6bd-31ffb7679d11",
   "metadata": {},
   "source": [
    "## Author\n",
    "Maryna"
   ]
  },
  {
   "cell_type": "code",
   "execution_count": null,
   "id": "0f55aa9e-d150-4923-a4cf-5922dd75b7ef",
   "metadata": {},
   "outputs": [],
   "source": []
  }
 ],
 "metadata": {
  "kernelspec": {
   "display_name": "Python 3 (ipykernel)",
   "language": "python",
   "name": "python3"
  },
  "language_info": {
   "codemirror_mode": {
    "name": "ipython",
    "version": 3
   },
   "file_extension": ".py",
   "mimetype": "text/x-python",
   "name": "python",
   "nbconvert_exporter": "python",
   "pygments_lexer": "ipython3",
   "version": "3.12.7"
  }
 },
 "nbformat": 4,
 "nbformat_minor": 5
}
